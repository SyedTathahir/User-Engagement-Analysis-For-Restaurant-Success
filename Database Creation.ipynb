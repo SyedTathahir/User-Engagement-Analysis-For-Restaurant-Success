{
 "cells": [
  {
   "cell_type": "code",
   "execution_count": 1,
   "id": "070dfa19-f555-44de-affc-20cd40ad73ab",
   "metadata": {},
   "outputs": [],
   "source": [
    "import pandas as pd\n",
    "import ujson as json\n",
    "import json\n",
    "from sqlalchemy import create_engine"
   ]
  },
  {
   "cell_type": "code",
   "execution_count": 2,
   "id": "13df8313-3ee2-4fe6-b660-1c71a76deb55",
   "metadata": {},
   "outputs": [],
   "source": [
    "\n",
    "# Function to process JSON files in chunks\n",
    "def process_json_in_chunks(file_path, chunk_size=1000000):\n",
    "    chunks = []\n",
    "    with open(file_path, 'r') as f:\n",
    "        for line in f:\n",
    "            chunks.append(json.loads(line))\n",
    "            if len(chunks) >= chunk_size:\n",
    "                df = pd.DataFrame(chunks)\n",
    "                yield df\n",
    "                chunks = []\n",
    "    if chunks:\n",
    "        df = pd.DataFrame(chunks)\n",
    "        yield df\n",
    "\n",
    "# Process yelp_academic_dataset_business.json\n",
    "business_chunks = process_json_in_chunks('yelp_academic_dataset_business.json')\n",
    "for business_df in business_chunks:\n",
    "    # Process each chunk here\n",
    "    pass\n",
    "\n",
    "# Process yelp_academic_dataset_checkin.json\n",
    "checkin_chunks = process_json_in_chunks('yelp_academic_dataset_checkin.json')\n",
    "for checkin_df in checkin_chunks:\n",
    "    # Process each chunk here\n",
    "    pass\n",
    "\n",
    "# Process yelp_academic_dataset_review.json\n",
    "review_chunks = process_json_in_chunks('yelp_academic_dataset_review.json')\n",
    "for review_df in review_chunks:\n",
    "    # Process each chunk here\n",
    "    pass\n",
    "\n",
    "# Process yelp_academic_dataset_tip.json\n",
    "tip_chunks = process_json_in_chunks('yelp_academic_dataset_tip.json')\n",
    "for tip_df in tip_chunks:\n",
    "    # Process each chunk here\n",
    "    pass\n",
    "\n",
    "# Process yelp_academic_dataset_user.json\n",
    "user_chunks = process_json_in_chunks('yelp_academic_dataset_user.json')\n",
    "for user_df in user_chunks:\n",
    "    # Process each chunk here\n",
    "    pass"
   ]
  },
  {
   "cell_type": "code",
   "execution_count": 3,
   "id": "65202e84-4414-42e5-b2a8-61f7cebc5ce1",
   "metadata": {},
   "outputs": [
    {
     "name": "stdout",
     "output_type": "stream",
     "text": [
      "(150346, 14)\n",
      "(131930, 2)\n",
      "(990280, 9)\n",
      "(908915, 5)\n",
      "(987897, 22)\n"
     ]
    }
   ],
   "source": [
    "print(business_df.shape)\n",
    "print(checkin_df.shape)\n",
    "print(review_df.shape)\n",
    "print(tip_df.shape)\n",
    "print(user_df.shape)\n"
   ]
  },
  {
   "cell_type": "code",
   "execution_count": 4,
   "id": "727b46aa-9474-4fa8-96b8-ff6b29e635de",
   "metadata": {},
   "outputs": [],
   "source": [
    "business_df.drop(['attributes','hours'],axis = 1, inplace = True)"
   ]
  },
  {
   "cell_type": "code",
   "execution_count": 5,
   "id": "4b3b80ae-16ec-4eb5-9923-91adbc344035",
   "metadata": {},
   "outputs": [],
   "source": [
    "engine = create_engine('sqlite:///yelp.db')\n",
    "\n",
    "def load_dataframe(df, table_name, engine):\n",
    "    df.to_sql(table_name, con=engine, if_exists='replace', index=False)\n",
    "\n",
    "# Load each DataFrame into a separate table\n",
    "load_dataframe(business_df, 'business', engine)\n",
    "load_dataframe(review_df, 'review', engine)\n",
    "load_dataframe(user_df, 'user', engine)\n",
    "load_dataframe(tip_df, 'tip', engine)\n",
    "load_dataframe(checkin_df, 'checkin', engine)"
   ]
  },
  {
   "cell_type": "code",
   "execution_count": null,
   "id": "1348ef97-b27b-428b-a454-61db404dac82",
   "metadata": {},
   "outputs": [],
   "source": []
  }
 ],
 "metadata": {
  "kernelspec": {
   "display_name": "Python 3 (ipykernel)",
   "language": "python",
   "name": "python3"
  },
  "language_info": {
   "codemirror_mode": {
    "name": "ipython",
    "version": 3
   },
   "file_extension": ".py",
   "mimetype": "text/x-python",
   "name": "python",
   "nbconvert_exporter": "python",
   "pygments_lexer": "ipython3",
   "version": "3.12.4"
  }
 },
 "nbformat": 4,
 "nbformat_minor": 5
}
